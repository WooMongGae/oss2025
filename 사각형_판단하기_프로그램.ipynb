{
  "nbformat": 4,
  "nbformat_minor": 0,
  "metadata": {
    "colab": {
      "provenance": [],
      "toc_visible": true,
      "authorship_tag": "ABX9TyPmndh8L+0oVuilhiSZP9P4",
      "include_colab_link": true
    },
    "kernelspec": {
      "name": "python3",
      "display_name": "Python 3"
    },
    "language_info": {
      "name": "python"
    }
  },
  "cells": [
    {
      "cell_type": "markdown",
      "metadata": {
        "id": "view-in-github",
        "colab_type": "text"
      },
      "source": [
        "<a href=\"https://colab.research.google.com/github/WooMongGae/oss2025/blob/main/%EC%82%AC%EA%B0%81%ED%98%95_%ED%8C%90%EB%8B%A8%ED%95%98%EA%B8%B0_%ED%94%84%EB%A1%9C%EA%B7%B8%EB%9E%A8.ipynb\" target=\"_parent\"><img src=\"https://colab.research.google.com/assets/colab-badge.svg\" alt=\"Open In Colab\"/></a>"
      ]
    },
    {
      "cell_type": "code",
      "execution_count": 2,
      "metadata": {
        "id": "aMGlI_OGwbYv"
      },
      "outputs": [],
      "source": []
    },
    {
      "cell_type": "markdown",
      "source": [
        "# 사각형 판단하기\n",
        "\n",
        "본 편에서는 **사각형의 두변의 길이**를 받아서 어떠한 사각형인지를 알려주는 프로그램을 개발합니다. 제안하는 프로그램은 사용자로부터 2개의 입력을 받습니다\n",
        "\n",
        "$a = b = c = d$ 정사각형 ⏹"
      ],
      "metadata": {
        "id": "cDYDoqp9xkdU"
      }
    },
    {
      "cell_type": "code",
      "source": [],
      "metadata": {
        "id": "fyiuwbgwzUJS"
      },
      "execution_count": 2,
      "outputs": []
    },
    {
      "cell_type": "code",
      "source": [
        "\n",
        "a = 102  # @param {type: \"number\"}\n",
        "b = 102  # @param {type: \"number\"}\n",
        "date = '2010-11-05'  # @param {type: \"date\"}\n",
        "pick_me = \"monday\"  # @param ['monday', 'tuesday', 'wednesday', 'thursday']\n",
        "select_or_input = \"apples\" # @param [\"apples\", \"bananas\", \"oranges\"] {allow-input: true}\n",
        "# @markdown ---\n"
      ],
      "metadata": {
        "id": "8FbKbxQszW8d"
      },
      "execution_count": 3,
      "outputs": []
    },
    {
      "cell_type": "markdown",
      "source": [
        "##정사각형##\n",
        "$a==b==c==d$\n"
      ],
      "metadata": {
        "id": "1Hy-NvY8ys_2"
      }
    },
    {
      "cell_type": "markdown",
      "source": [
        "# 새 섹션"
      ],
      "metadata": {
        "id": "R0ljNPhv0jV1"
      }
    },
    {
      "cell_type": "markdown",
      "source": [],
      "metadata": {
        "id": "3tSItrCkyoCv"
      }
    },
    {
      "cell_type": "code",
      "source": [
        "a = 4\n",
        "b = 3\n",
        "\n",
        "if(a== b ) :\n",
        "  print(\"정사각형\")\n",
        "else:\n",
        "  print(\"정사각형 아님\")"
      ],
      "metadata": {
        "colab": {
          "base_uri": "https://localhost:8080/"
        },
        "id": "gdyX0GE3yN7a",
        "outputId": "28c1a154-4e02-4fb7-b2f4-cbd7714ad292"
      },
      "execution_count": 4,
      "outputs": [
        {
          "output_type": "stream",
          "name": "stdout",
          "text": [
            "정사각형 아님\n"
          ]
        }
      ]
    }
  ]
}